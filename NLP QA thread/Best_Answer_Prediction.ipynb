{
  "nbformat": 4,
  "nbformat_minor": 0,
  "metadata": {
    "colab": {
      "name": "NLP Project_Best Answer Prediction_2.ipynb",
      "provenance": []
    },
    "kernelspec": {
      "display_name": "Python 3",
      "language": "python",
      "name": "python3"
    },
    "language_info": {
      "codemirror_mode": {
        "name": "ipython",
        "version": 3
      },
      "file_extension": ".py",
      "mimetype": "text/x-python",
      "name": "python",
      "nbconvert_exporter": "python",
      "pygments_lexer": "ipython3",
      "version": "3.7.4"
    }
  },
  "cells": [
    {
      "cell_type": "markdown",
      "metadata": {
        "colab_type": "text",
        "id": "StP8U1sSOncJ"
      },
      "source": [
        "# SETUP\n",
        "\n"
      ]
    },
    {
      "cell_type": "code",
      "metadata": {
        "colab_type": "code",
        "id": "2Rq9huoz0xVt",
        "outputId": "4476445f-dd4c-4e23-9e83-ebea66ae5549",
        "colab": {
          "base_uri": "https://localhost:8080/",
          "height": 110
        }
      },
      "source": [
        "#general & Preprocessing imports\n",
        "import os\n",
        "import numpy as np\n",
        "from scipy.sparse import csc_matrix, save_npz, load_npz\n",
        "import re\n",
        "import pickle\n",
        "import pandas as pd\n",
        "from datetime import datetime\n",
        "from gensim.corpora import Dictionary\n",
        "import nltk\n",
        "from nltk.corpus import stopwords\n",
        "from nltk.tokenize import TweetTokenizer\n",
        "from sklearn.preprocessing import OneHotEncoder, LabelEncoder\n",
        "from nltk.stem import PorterStemmer, SnowballStemmer\n",
        "nltk.download('stopwords')\n",
        "stopword_list = stopwords.words('english')\n",
        "import codecs\n",
        "import seaborn as sns\n",
        "%matplotlib inline\n",
        "import matplotlib.pyplot as plt\n",
        "from sklearn.model_selection import train_test_split\n",
        "from sklearn.metrics import confusion_matrix, classification_report\n",
        "\n",
        "#Keras imports\n",
        "import tensorflow as tf\n",
        "import tensorflow.keras as keras\n",
        "from tensorflow.keras.utils import to_categorical\n",
        "from tensorflow.keras.models import Sequential, Model\n",
        "from tensorflow.keras.layers import Input, Embedding, Reshape, MaxPooling1D\n",
        "from tensorflow.keras.layers import Activation\n",
        "from tensorflow.keras.layers import Flatten, Dense, Dropout, Lambda\n",
        "from tensorflow.keras.layers import BatchNormalization\n",
        "from tensorflow.keras.optimizers import SGD, RMSprop, Adam\n",
        "from tensorflow.keras.metrics import categorical_crossentropy, categorical_accuracy\n",
        "from tensorflow.keras.layers import *\n",
        "from tensorflow.keras.preprocessing import image, sequence\n",
        "from tensorflow.keras.preprocessing.text import Tokenizer\n",
        "from tensorflow.keras.preprocessing.sequence import pad_sequences"
      ],
      "execution_count": 0,
      "outputs": [
        {
          "output_type": "stream",
          "text": [
            "[nltk_data] Downloading package stopwords to\n",
            "[nltk_data]     /Users/andreasabia/nltk_data...\n",
            "[nltk_data]   Package stopwords is already up-to-date!\n"
          ],
          "name": "stderr"
        }
      ]
    },
    {
      "cell_type": "code",
      "metadata": {
        "id": "Kd3u6wUN0Wz3",
        "colab_type": "code",
        "colab": {}
      },
      "source": [
        "os.chdir('/Users/andreasabia/Documents/ESCP/NLP/project')\n",
        "df=pd.read_csv('./export-forums_en.format.csv')"
      ],
      "execution_count": 0,
      "outputs": []
    },
    {
      "cell_type": "markdown",
      "metadata": {
        "colab_type": "text",
        "id": "cdj68EiZPmPO"
      },
      "source": [
        "# DATA PREPARATION"
      ]
    },
    {
      "cell_type": "code",
      "metadata": {
        "colab_type": "code",
        "id": "CvOoAg0B0xWp",
        "colab": {}
      },
      "source": [
        "answer=df[df['type']=='A']\n",
        "question=df[df['type']=='Q']\n",
        "comment=df[df['type']=='C']\n",
        "comment=comment[['parent_id','content']]\n",
        "question=question[['id','content','num_answers','date']]\n",
        "answer=answer[['id','parent_id','content','date','author_crc','is_best_answer','votes']]"
      ],
      "execution_count": 0,
      "outputs": []
    },
    {
      "cell_type": "code",
      "metadata": {
        "id": "y6vbutCA0W0P",
        "colab_type": "code",
        "colab": {}
      },
      "source": [
        "comment=comment.applymap(str)\n",
        "comment=comment.groupby('parent_id').agg({'content': lambda x: ' '.join(x)})"
      ],
      "execution_count": 0,
      "outputs": []
    },
    {
      "cell_type": "code",
      "metadata": {
        "colab_type": "code",
        "id": "NO8XvfSD0xW-",
        "colab": {}
      },
      "source": [
        "corpus=pd.merge(left=answer, right=question, how='left', left_on='parent_id',\n",
        "                right_on='id')"
      ],
      "execution_count": 0,
      "outputs": []
    },
    {
      "cell_type": "code",
      "metadata": {
        "id": "eF3C2GOq0W0g",
        "colab_type": "code",
        "colab": {}
      },
      "source": [
        "comment.index=comment.index.astype(int)"
      ],
      "execution_count": 0,
      "outputs": []
    },
    {
      "cell_type": "code",
      "metadata": {
        "id": "r3JiePap0W0o",
        "colab_type": "code",
        "colab": {}
      },
      "source": [
        "corpus=pd.merge(left=corpus, right=comment, how='left', left_on='id_x', right_index=True)"
      ],
      "execution_count": 0,
      "outputs": []
    },
    {
      "cell_type": "code",
      "metadata": {
        "id": "WQmqrjb70W0z",
        "colab_type": "code",
        "colab": {}
      },
      "source": [
        "corpus['time']=corpus['date_x']-corpus['date_y']"
      ],
      "execution_count": 0,
      "outputs": []
    },
    {
      "cell_type": "code",
      "metadata": {
        "id": "rK9MUMpj0W05",
        "colab_type": "code",
        "colab": {},
        "outputId": "392059fa-06ae-4757-d956-17c55d929dc4"
      },
      "source": [
        "test=corpus[['author_crc','is_best_answer']]\n",
        "\n",
        "ans=test.groupby('author_crc').sum()\n",
        "ans=ans.reset_index()\n",
        "\n",
        "cou=test.groupby('author_crc').count()\n",
        "cou=cou.reset_index()\n",
        "test=pd.merge(left=ans, right=cou, how='inner', on='author_crc')\n",
        "test['ratio']=test['is_best_answer_y']/test['is_best_answer_x']\n",
        "test=test.replace([np.inf, -np.inf], 0)\n",
        "\n",
        "test['ranking']=0\n",
        "test['ratio']=test['ratio'].astype(float)\n",
        "\n",
        "for i in range(len(test['ranking'])):\n",
        "    if test['ratio'][i]<0.05:\n",
        "        test['ranking'][i]=1\n",
        "    elif test['ratio'][i]<4:\n",
        "        test['ranking'][i]=2\n",
        "    else:\n",
        "        test['ranking'][i]=3\n",
        "\n",
        "test=test[['author_crc','ranking']]"
      ],
      "execution_count": 0,
      "outputs": [
        {
          "output_type": "stream",
          "text": [
            "/opt/anaconda3/lib/python3.7/site-packages/ipykernel_launcher.py:17: SettingWithCopyWarning: \n",
            "A value is trying to be set on a copy of a slice from a DataFrame\n",
            "\n",
            "See the caveats in the documentation: http://pandas.pydata.org/pandas-docs/stable/user_guide/indexing.html#returning-a-view-versus-a-copy\n",
            "/opt/anaconda3/lib/python3.7/site-packages/ipykernel_launcher.py:19: SettingWithCopyWarning: \n",
            "A value is trying to be set on a copy of a slice from a DataFrame\n",
            "\n",
            "See the caveats in the documentation: http://pandas.pydata.org/pandas-docs/stable/user_guide/indexing.html#returning-a-view-versus-a-copy\n",
            "/opt/anaconda3/lib/python3.7/site-packages/ipykernel_launcher.py:21: SettingWithCopyWarning: \n",
            "A value is trying to be set on a copy of a slice from a DataFrame\n",
            "\n",
            "See the caveats in the documentation: http://pandas.pydata.org/pandas-docs/stable/user_guide/indexing.html#returning-a-view-versus-a-copy\n"
          ],
          "name": "stderr"
        }
      ]
    },
    {
      "cell_type": "code",
      "metadata": {
        "colab_type": "code",
        "id": "CB9N6YlY0xXH",
        "colab": {}
      },
      "source": [
        "target=corpus['is_best_answer']\n",
        "A=corpus['content_x']\n",
        "Q=corpus['content_y']\n",
        "C=corpus['content']\n",
        "O=corpus[['author_crc','time','votes']]\n",
        "O=pd.merge(left=O, right=test, how='left', on='author_crc')\n",
        "O.drop('author_crc', axis=1, inplace=True)"
      ],
      "execution_count": 0,
      "outputs": []
    },
    {
      "cell_type": "code",
      "metadata": {
        "id": "ZJfliFlq0W1E",
        "colab_type": "code",
        "colab": {}
      },
      "source": [
        "import pandas as pd\n",
        "from sklearn import preprocessing\n",
        "\n",
        "x = O.values #returns a numpy array\n",
        "min_max_scaler = preprocessing.MinMaxScaler()\n",
        "x_scaled = min_max_scaler.fit_transform(x)\n",
        "O = pd.DataFrame(x_scaled)\n",
        "O=O.rename(columns={0:'time',1:'votes',2:'ranking'})"
      ],
      "execution_count": 0,
      "outputs": []
    },
    {
      "cell_type": "markdown",
      "metadata": {
        "colab_type": "text",
        "id": "OK1XOw5OQLYB"
      },
      "source": [
        "# TEXT PREPROCESSING"
      ]
    },
    {
      "cell_type": "code",
      "metadata": {
        "id": "aTifx8YXwd5d",
        "colab_type": "code",
        "colab": {}
      },
      "source": [
        "to_replace = ['[^\\w\\s]','\\d+','\\n\\nbr','\\n br','\\xa0','\\r','½','\\n','\\nbr']\n",
        "\n",
        "def clean_1(series):\n",
        "    for values in to_replace:\n",
        "        series=series.str.replace(values,\" \")\n",
        "    series=series.astype(str)\n",
        "    series=series.apply(lambda x: x.lower())\n",
        "    return series\n",
        "\n",
        "def word_stemmer(text):\n",
        "    stemmer = SnowballStemmer(\"english\")\n",
        "    stem_text= \" \".join([stemmer.stem(i) for i in text])\n",
        "    return stem_text\n",
        "\n",
        "def remove_stopwords(text):\n",
        "    words = [w for w in text if w not in stopwords.words('english')]\n",
        "    return words\n",
        "\n",
        "def alpha_length(text):\n",
        "    new_text = [w for w in text if w.isalpha() and len(w) > 1]\n",
        "    return new_text\n",
        "\n",
        "def clean_2(series):\n",
        "    tokenizer = Tokenizer()\n",
        "    clean_series = series.apply(lambda x: nltk.tokenize.RegexpTokenizer(r'\\w+').tokenize(x))\n",
        "    clean_series = clean_series.apply(lambda x: remove_stopwords(x))\n",
        "    clean_series = clean_series.apply(lambda x: alpha_length(x))\n",
        "    clean_series = clean_series.apply(lambda x: word_stemmer(x))\n",
        "    return clean_series\n",
        "\n",
        "def cleaning(data):\n",
        "  data = clean_1(data)\n",
        "  data = clean_2(data)\n",
        "  return data"
      ],
      "execution_count": 0,
      "outputs": []
    },
    {
      "cell_type": "code",
      "metadata": {
        "id": "HuPxryb9aD7-",
        "colab_type": "code",
        "colab": {}
      },
      "source": [
        "for dataset,safe_loc in zip([A,Q,C],['./A_v3.tsv',\n",
        "                                     './Q_v3.tsv',\n",
        "                                     './C_v3.tsv']):\n",
        "  clean_dataset = cleaning(dataset)\n",
        "  \n",
        "  with open(safe_loc, 'w') as file_to_save: \n",
        "    file_to_save.write(clean_dataset)\n",
        "\n",
        "  del clean_dataset\n",
        "  print(\"done one\")\n",
        "\n",
        "for dataset,safe_loc in zip([O,target],['./O_v3.tsv',\n",
        "                                     './L_v3.tsv']):\n",
        "  \n",
        "  with open(safe_loc, 'w') as file_to_save: \n",
        "    file_to_save.write(dataset)\n",
        "\n",
        "  print(\"done one\")"
      ],
      "execution_count": 0,
      "outputs": []
    },
    {
      "cell_type": "markdown",
      "metadata": {
        "id": "gPjWSqY10W11",
        "colab_type": "text"
      },
      "source": [
        "### Answer Embedding"
      ]
    },
    {
      "cell_type": "code",
      "metadata": {
        "id": "jVH3W8ry0W12",
        "colab_type": "code",
        "colab": {}
      },
      "source": [
        "tokenizer = Tokenizer() # Creates tokenizer model.\n",
        "tokenizer.fit_on_texts(A) # creates a dictionary and orders by occurrence"
      ],
      "execution_count": 0,
      "outputs": []
    },
    {
      "cell_type": "code",
      "metadata": {
        "id": "JPcfKu5a0W18",
        "colab_type": "code",
        "colab": {}
      },
      "source": [
        "# Get words\n",
        "Vals = list(tokenizer.word_index.keys())"
      ],
      "execution_count": 0,
      "outputs": []
    },
    {
      "cell_type": "code",
      "metadata": {
        "id": "4So5euPs0W2B",
        "colab_type": "code",
        "colab": {}
      },
      "source": [
        "file = codecs.open('answer.csv', \"w\", \"utf-8\")\n",
        "\n",
        "for item in Vals:\n",
        "    file.write(\"%s\\r\\n\" % item)\n",
        "\n",
        "file.close()"
      ],
      "execution_count": 0,
      "outputs": []
    },
    {
      "cell_type": "code",
      "metadata": {
        "id": "hz4QZslS0W2J",
        "colab_type": "code",
        "colab": {}
      },
      "source": [
        "!./fastText-0.9.1/fasttext print-sentence-vectors fastText-0.9.1/cc.en.300.bin < answer.csv > embeddinganswer.tsv"
      ],
      "execution_count": 0,
      "outputs": []
    },
    {
      "cell_type": "code",
      "metadata": {
        "id": "g0vbPnEX0W2O",
        "colab_type": "code",
        "colab": {}
      },
      "source": [
        "import fileinput\n",
        "\n",
        "with fileinput.FileInput('embeddinganswer.tsv', inplace=True, backup='.bak') as file:\n",
        "    for line in file:\n",
        "        print(line.replace(' ', ','), end='')"
      ],
      "execution_count": 0,
      "outputs": []
    },
    {
      "cell_type": "code",
      "metadata": {
        "id": "Qrg4MqZt0W2T",
        "colab_type": "code",
        "colab": {}
      },
      "source": [
        "# Create the first line\n",
        "firstLine = ','.join(['D'+str(i) for i in np.arange(1, 301)]) + '\\n'\n",
        "\n",
        "# Open as read only. Read the file\n",
        "with open('embeddinganswer.tsv', 'r') as original: \n",
        "  data = original.read()\n",
        "\n",
        "# Open to write and write the first line and the rest\n",
        "with open('answer.csv', 'w') as modified: \n",
        "  modified.write(firstLine + data)"
      ],
      "execution_count": 0,
      "outputs": []
    },
    {
      "cell_type": "markdown",
      "metadata": {
        "id": "ia9AnRMA0W2Y",
        "colab_type": "text"
      },
      "source": [
        "### Question Embedding"
      ]
    },
    {
      "cell_type": "code",
      "metadata": {
        "id": "ddgwHCbR0W2Y",
        "colab_type": "code",
        "colab": {}
      },
      "source": [
        "tokenizer = Tokenizer() # Creates tokenizer model.\n",
        "tokenizer.fit_on_texts(Q) # creates a dictionary and orders by occurrence"
      ],
      "execution_count": 0,
      "outputs": []
    },
    {
      "cell_type": "code",
      "metadata": {
        "id": "m0yf1D2L0W2g",
        "colab_type": "code",
        "colab": {}
      },
      "source": [
        "# Get words\n",
        "Vals = list(tokenizer.word_index.keys())"
      ],
      "execution_count": 0,
      "outputs": []
    },
    {
      "cell_type": "code",
      "metadata": {
        "id": "mMiYG85p0W2k",
        "colab_type": "code",
        "colab": {}
      },
      "source": [
        "file = codecs.open('question.csv', \"w\", \"utf-8\")\n",
        "\n",
        "for item in Vals:\n",
        "    file.write(\"%s\\r\\n\" % item)\n",
        "\n",
        "file.close()"
      ],
      "execution_count": 0,
      "outputs": []
    },
    {
      "cell_type": "code",
      "metadata": {
        "id": "yYaMvAnA0W2o",
        "colab_type": "code",
        "colab": {}
      },
      "source": [
        "!./fastText-0.9.1/fasttext print-sentence-vectors fastText-0.9.1/cc.en.300.bin < question.csv > embeddingquestion.tsv"
      ],
      "execution_count": 0,
      "outputs": []
    },
    {
      "cell_type": "code",
      "metadata": {
        "id": "zo8oU1M80W2u",
        "colab_type": "code",
        "colab": {}
      },
      "source": [
        "import fileinput\n",
        "\n",
        "with fileinput.FileInput('embeddingquestion.tsv', inplace=True, backup='.bak') as file:\n",
        "    for line in file:\n",
        "        print(line.replace(' ', ','), end='')"
      ],
      "execution_count": 0,
      "outputs": []
    },
    {
      "cell_type": "code",
      "metadata": {
        "id": "mmhjL_FE0W2y",
        "colab_type": "code",
        "colab": {}
      },
      "source": [
        "# Create the first line\n",
        "firstLine = ','.join(['D'+str(i) for i in np.arange(1, 301)]) + '\\n'\n",
        "\n",
        "# Open as read only. Read the file\n",
        "with open('embeddingquestion.tsv', 'r') as original: \n",
        "  data = original.read()\n",
        "\n",
        "# Open to write and write the first line and the rest\n",
        "with open('question.csv', 'w') as modified: \n",
        "  modified.write(firstLine + data)"
      ],
      "execution_count": 0,
      "outputs": []
    },
    {
      "cell_type": "markdown",
      "metadata": {
        "id": "QQzaETKK0W22",
        "colab_type": "text"
      },
      "source": [
        "### Comment embedding"
      ]
    },
    {
      "cell_type": "code",
      "metadata": {
        "id": "1Ez5PHZh0W22",
        "colab_type": "code",
        "colab": {}
      },
      "source": [
        "tokenizer = Tokenizer() # Creates tokenizer model.\n",
        "tokenizer.fit_on_texts(C) # creates a dictionary and orders by occurrence"
      ],
      "execution_count": 0,
      "outputs": []
    },
    {
      "cell_type": "code",
      "metadata": {
        "id": "etgL8rJW0W27",
        "colab_type": "code",
        "colab": {}
      },
      "source": [
        "# Get words\n",
        "Vals = list(tokenizer.word_index.keys())"
      ],
      "execution_count": 0,
      "outputs": []
    },
    {
      "cell_type": "code",
      "metadata": {
        "id": "hveIrcag0W2-",
        "colab_type": "code",
        "colab": {}
      },
      "source": [
        "file = codecs.open('comment.csv', \"w\", \"utf-8\")\n",
        "\n",
        "for item in Vals:\n",
        "    file.write(\"%s\\r\\n\" % item)\n",
        "\n",
        "file.close()"
      ],
      "execution_count": 0,
      "outputs": []
    },
    {
      "cell_type": "code",
      "metadata": {
        "id": "M4dOFvwO0W3C",
        "colab_type": "code",
        "colab": {}
      },
      "source": [
        "!./fastText-0.9.1/fasttext print-sentence-vectors fastText-0.9.1/cc.en.300.bin < comment.csv > embeddingcomment.tsv"
      ],
      "execution_count": 0,
      "outputs": []
    },
    {
      "cell_type": "code",
      "metadata": {
        "id": "bge5J73B0W3H",
        "colab_type": "code",
        "colab": {}
      },
      "source": [
        "import fileinput\n",
        "\n",
        "with fileinput.FileInput('embeddingcomment.tsv', inplace=True, backup='.bak') as file:\n",
        "    for line in file:\n",
        "        print(line.replace(' ', ','), end='')"
      ],
      "execution_count": 0,
      "outputs": []
    },
    {
      "cell_type": "code",
      "metadata": {
        "id": "N2nDg2hE0W3S",
        "colab_type": "code",
        "colab": {}
      },
      "source": [
        "# Create the first line\n",
        "firstLine = ','.join(['D'+str(i) for i in np.arange(1, 301)]) + '\\n'\n",
        "\n",
        "# Open as read only. Read the file\n",
        "with open('embeddingcomment.tsv', 'r') as original: \n",
        "  data = original.read()\n",
        "\n",
        "# Open to write and write the first line and the rest\n",
        "with open('comment.csv', 'w') as modified: \n",
        "  modified.write(firstLine + data)"
      ],
      "execution_count": 0,
      "outputs": []
    },
    {
      "cell_type": "markdown",
      "metadata": {
        "colab_type": "text",
        "id": "mIIEG7m7REDr"
      },
      "source": [
        "# EMBEDDINGS\n",
        "#### Run again from here"
      ]
    },
    {
      "cell_type": "markdown",
      "metadata": {
        "id": "6Mv3RNvp0W3W",
        "colab_type": "text"
      },
      "source": [
        "#### Answer"
      ]
    },
    {
      "cell_type": "code",
      "metadata": {
        "colab_type": "code",
        "id": "owly_Fyx0xYL",
        "colab": {}
      },
      "source": [
        "# Read word embeddings\n",
        "Embeddings = pd.read_csv('/Users/andreasabia/Documents/ESCP/NLP/project/answer.csv', sep=',', decimal = '.', \n",
        "                         low_memory = True, index_col = False)"
      ],
      "execution_count": 0,
      "outputs": []
    },
    {
      "cell_type": "code",
      "metadata": {
        "colab_type": "code",
        "id": "B1Z_0mwq0xYb",
        "colab": {}
      },
      "source": [
        "# Create word index from input\n",
        "tokenizer = Tokenizer() # Creates tokenizer model.\n",
        "tokenizer.fit_on_texts(A)\n",
        "sequences = tokenizer.texts_to_sequences(A) # Create the sequences.\n",
        "Vals = list(tokenizer.word_index.keys())"
      ],
      "execution_count": 0,
      "outputs": []
    },
    {
      "cell_type": "code",
      "metadata": {
        "colab_type": "code",
        "id": "x5jiskHg0xYR",
        "colab": {}
      },
      "source": [
        "EmbeddingsDict = dict(zip(Vals, Embeddings.values))"
      ],
      "execution_count": 0,
      "outputs": []
    },
    {
      "cell_type": "code",
      "metadata": {
        "colab_type": "code",
        "id": "krFcavCz0xYV",
        "colab": {},
        "outputId": "6738b552-ad7e-4f1d-d34b-ca9311fc2f7e"
      },
      "source": [
        "# Count maximum number of words per file.\n",
        "wordDist = [len(w.split()) for w in A]\n",
        "print('Avg. no of words: ' + str(np.round(np.mean(wordDist), 2)))\n",
        "print('Std. deviation: ' + str(np.round(np.std(wordDist), 2)))\n",
        "print('Max words: ' + str(np.max(wordDist)))\n",
        "sns.distplot(wordDist)"
      ],
      "execution_count": 0,
      "outputs": [
        {
          "output_type": "stream",
          "text": [
            "Avg. no of words: 42.79\n",
            "Std. deviation: 47.19\n",
            "Max words: 469\n"
          ],
          "name": "stdout"
        },
        {
          "output_type": "execute_result",
          "data": {
            "text/plain": [
              "<matplotlib.axes._subplots.AxesSubplot at 0x1379609d0>"
            ]
          },
          "metadata": {
            "tags": []
          },
          "execution_count": 18
        },
        {
          "output_type": "display_data",
          "data": {
            "image/png": "[encoded data removed]",
            "text/plain": [
              "<Figure size 432x288 with 1 Axes>"
            ]
          },
          "metadata": {
            "tags": [],
            "needs_background": "light"
          }
        }
      ]
    },
    {
      "cell_type": "code",
      "metadata": {
        "colab_type": "code",
        "id": "IGtolKBL0xYf",
        "colab": {},
        "outputId": "68e7f0a0-17e2-442d-addd-24dea7a17e27"
      },
      "source": [
        "# Creates the indexes. Word index is a dictionary with words in it.\n",
        "word_index = tokenizer.word_index\n",
        "print('Found %s unique tokens.' % len(word_index))"
      ],
      "execution_count": 0,
      "outputs": [
        {
          "output_type": "stream",
          "text": [
            "Found 120493 unique tokens.\n"
          ],
          "name": "stdout"
        }
      ]
    },
    {
      "cell_type": "code",
      "metadata": {
        "colab_type": "code",
        "id": "l6b6KD6X0xYl",
        "colab": {}
      },
      "source": [
        "# Creates the training dataset, adding padding when necessary.\n",
        "answer_data = pad_sequences(sequences, maxlen=90, \n",
        "                     padding = 'post') # add padding at the end. No difference in practice."
      ],
      "execution_count": 0,
      "outputs": []
    },
    {
      "cell_type": "code",
      "metadata": {
        "colab_type": "code",
        "id": "j4ik_6jQ0xYp",
        "colab": {},
        "outputId": "f2f04e07-b412-492d-db9e-4d68a11cc7ef"
      },
      "source": [
        "# Creates the objective function\n",
        "labels = target\n",
        "print('Shape of data tensor:', answer_data.shape)\n",
        "print('Shape of label tensor:', labels.shape)"
      ],
      "execution_count": 0,
      "outputs": [
        {
          "output_type": "stream",
          "text": [
            "Shape of data tensor: (328280, 90)\n",
            "Shape of label tensor: (328280,)\n"
          ],
          "name": "stdout"
        }
      ]
    },
    {
      "cell_type": "code",
      "metadata": {
        "colab_type": "code",
        "id": "PoVFBk3-0xYv",
        "colab": {},
        "outputId": "b1026eb5-8536-4ff6-d558-0f1fb257748b"
      },
      "source": [
        "# Create first matrix full with 0's\n",
        "answer_embedding_matrix = np.zeros((len(word_index) + 1, 300))\n",
        "\n",
        "# Generate embeddings matrix\n",
        "for word, i in word_index.items():\n",
        "    embedding_vector = EmbeddingsDict.get(word)\n",
        "    if embedding_vector is not None:\n",
        "        # words not found in embedding index will be all-zeros.\n",
        "        answer_embedding_matrix[i] = embedding_vector\n",
        "\n",
        "# Print what came out\n",
        "answer_embedding_matrix"
      ],
      "execution_count": 0,
      "outputs": [
        {
          "output_type": "execute_result",
          "data": {
            "text/plain": [
              "array([[ 0.        ,  0.        ,  0.        , ...,  0.        ,\n",
              "         0.        ,  0.        ],\n",
              "       [-0.040902  ,  0.058467  , -0.010321  , ...,  0.18736   ,\n",
              "         0.00035375, -0.0033145 ],\n",
              "       [ 0.0015377 ,  0.0092387 , -0.0097338 , ...,  0.10695   ,\n",
              "        -0.016719  ,  0.002349  ],\n",
              "       ...,\n",
              "       [-0.028315  , -0.016291  , -0.053365  , ...,  0.05986   ,\n",
              "         0.045068  ,  0.017336  ],\n",
              "       [ 0.        ,  0.        ,  0.        , ...,  0.        ,\n",
              "         0.        ,  0.        ],\n",
              "       [-0.019339  ,  0.014702  ,  0.0026496 , ...,  0.010836  ,\n",
              "         0.023965  ,  0.0069051 ]])"
            ]
          },
          "metadata": {
            "tags": []
          },
          "execution_count": 22
        }
      ]
    },
    {
      "cell_type": "markdown",
      "metadata": {
        "id": "U3YJ5Fyc0W31",
        "colab_type": "text"
      },
      "source": [
        "#### question"
      ]
    },
    {
      "cell_type": "code",
      "metadata": {
        "colab_type": "code",
        "id": "H3TvMwam0W31",
        "colab": {}
      },
      "source": [
        "# Read word embeddings\n",
        "Embeddings = pd.read_csv('/Users/andreasabia/Documents/ESCP/NLP/project/question.csv', sep=',', decimal = '.', \n",
        "                         low_memory = True, index_col = False)"
      ],
      "execution_count": 0,
      "outputs": []
    },
    {
      "cell_type": "code",
      "metadata": {
        "colab_type": "code",
        "id": "pAIdTYRR0W34",
        "colab": {}
      },
      "source": [
        "# Create word index from input\n",
        "tokenizer = Tokenizer() # Creates tokenizer model.\n",
        "tokenizer.fit_on_texts(Q)\n",
        "sequences = tokenizer.texts_to_sequences(Q) # Create the sequences.\n",
        "Vals = list(tokenizer.word_index.keys())"
      ],
      "execution_count": 0,
      "outputs": []
    },
    {
      "cell_type": "code",
      "metadata": {
        "colab_type": "code",
        "id": "T-sL_i7I0W37",
        "colab": {}
      },
      "source": [
        "EmbeddingsDict = dict(zip(Vals, Embeddings.values))"
      ],
      "execution_count": 0,
      "outputs": []
    },
    {
      "cell_type": "code",
      "metadata": {
        "colab_type": "code",
        "id": "yXcAYSRY0W3-",
        "colab": {},
        "outputId": "16ed53bf-b84c-4bb7-cdd7-76044cbdad55"
      },
      "source": [
        "# Count maximum number of words per file.\n",
        "wordDist = [len(w.split()) for w in Q]\n",
        "print('Avg. no of words: ' + str(np.round(np.mean(wordDist), 2)))\n",
        "print('Std. deviation: ' + str(np.round(np.std(wordDist), 2)))\n",
        "print('Max words: ' + str(np.max(wordDist)))\n",
        "sns.distplot(wordDist)"
      ],
      "execution_count": 0,
      "outputs": [
        {
          "output_type": "stream",
          "text": [
            "Avg. no of words: 55.85\n",
            "Std. deviation: 55.54\n",
            "Max words: 456\n"
          ],
          "name": "stdout"
        },
        {
          "output_type": "execute_result",
          "data": {
            "text/plain": [
              "<matplotlib.axes._subplots.AxesSubplot at 0x13316f150>"
            ]
          },
          "metadata": {
            "tags": []
          },
          "execution_count": 26
        },
        {
          "output_type": "display_data",
          "data": {
            "image/png": "[encoded data removed]",
            "text/plain": [
              "<Figure size 432x288 with 1 Axes>"
            ]
          },
          "metadata": {
            "tags": [],
            "needs_background": "light"
          }
        }
      ]
    },
    {
      "cell_type": "code",
      "metadata": {
        "colab_type": "code",
        "id": "Nb8wGHU-0W4E",
        "colab": {},
        "outputId": "e91825fd-52f6-41ab-8c89-2fba5a11ebf1"
      },
      "source": [
        "# Creates the indexes. Word index is a dictionary with words in it.\n",
        "word_index = tokenizer.word_index\n",
        "print('Found %s unique tokens.' % len(word_index))"
      ],
      "execution_count": 0,
      "outputs": [
        {
          "output_type": "stream",
          "text": [
            "Found 105468 unique tokens.\n"
          ],
          "name": "stdout"
        }
      ]
    },
    {
      "cell_type": "code",
      "metadata": {
        "colab_type": "code",
        "id": "5pPUj8Zq0W4K",
        "colab": {}
      },
      "source": [
        "# Creates the training dataset, adding padding when necessary.\n",
        "question_data = pad_sequences(sequences, maxlen=90, \n",
        "                     padding = 'post') # add padding at the end. No difference in practice."
      ],
      "execution_count": 0,
      "outputs": []
    },
    {
      "cell_type": "code",
      "metadata": {
        "colab_type": "code",
        "id": "b9Lz6fd10W4Q",
        "colab": {},
        "outputId": "bbc33558-6730-44ee-b785-089b1ca7fc98"
      },
      "source": [
        "print('Shape of data tensor:', question_data.shape)"
      ],
      "execution_count": 0,
      "outputs": [
        {
          "output_type": "stream",
          "text": [
            "Shape of data tensor: (328280, 90)\n"
          ],
          "name": "stdout"
        }
      ]
    },
    {
      "cell_type": "code",
      "metadata": {
        "colab_type": "code",
        "id": "g3imX6jp0W4T",
        "colab": {},
        "outputId": "4d569695-d2d7-4fbe-b09b-0988053cd314"
      },
      "source": [
        "# Create first matrix full with 0's\n",
        "question_embedding_matrix = np.zeros((len(word_index) + 1, 300))\n",
        "\n",
        "# Generate embeddings matrix\n",
        "for word, i in word_index.items():\n",
        "    embedding_vector = EmbeddingsDict.get(word)\n",
        "    if embedding_vector is not None:\n",
        "        # words not found in embedding index will be all-zeros.\n",
        "        question_embedding_matrix[i] = embedding_vector\n",
        "\n",
        "# Print what came out\n",
        "question_embedding_matrix"
      ],
      "execution_count": 0,
      "outputs": [
        {
          "output_type": "execute_result",
          "data": {
            "text/plain": [
              "array([[ 0.        ,  0.        ,  0.        , ...,  0.        ,\n",
              "         0.        ,  0.        ],\n",
              "       [ 0.000767  , -0.036357  , -0.042976  , ...,  0.14262   ,\n",
              "        -0.11275   , -0.065931  ],\n",
              "       [-0.040902  ,  0.058467  , -0.010321  , ...,  0.18736   ,\n",
              "         0.00035375, -0.0033145 ],\n",
              "       ...,\n",
              "       [-0.00022633, -0.044052  ,  0.057267  , ...,  0.07175   ,\n",
              "         0.035076  , -0.040666  ],\n",
              "       [ 0.099437  ,  0.04324   , -0.068357  , ...,  0.082004  ,\n",
              "         0.088755  ,  0.0091962 ],\n",
              "       [-0.059012  , -0.0070095 ,  0.030533  , ...,  0.044951  ,\n",
              "        -0.069921  ,  0.00515   ]])"
            ]
          },
          "metadata": {
            "tags": []
          },
          "execution_count": 30
        }
      ]
    },
    {
      "cell_type": "markdown",
      "metadata": {
        "id": "Nqf5E6fx0W4W",
        "colab_type": "text"
      },
      "source": [
        "#### comment"
      ]
    },
    {
      "cell_type": "code",
      "metadata": {
        "colab_type": "code",
        "id": "r_Ql_BQb0W4X",
        "colab": {}
      },
      "source": [
        "# Read word embeddings\n",
        "Embeddings = pd.read_csv('/Users/andreasabia/Documents/ESCP/NLP/project/comment.csv', sep=',', decimal = '.', \n",
        "                         low_memory = True, index_col = False)"
      ],
      "execution_count": 0,
      "outputs": []
    },
    {
      "cell_type": "code",
      "metadata": {
        "colab_type": "code",
        "id": "TWuyUlXv0W4b",
        "colab": {}
      },
      "source": [
        "# Create word index from input\n",
        "tokenizer = Tokenizer() # Creates tokenizer model.\n",
        "tokenizer.fit_on_texts(C)\n",
        "sequences = tokenizer.texts_to_sequences(C) # Create the sequences.\n",
        "Vals = list(tokenizer.word_index.keys())"
      ],
      "execution_count": 0,
      "outputs": []
    },
    {
      "cell_type": "code",
      "metadata": {
        "colab_type": "code",
        "id": "zwErx9oj0W4f",
        "colab": {}
      },
      "source": [
        "EmbeddingsDict = dict(zip(Vals, Embeddings.values))"
      ],
      "execution_count": 0,
      "outputs": []
    },
    {
      "cell_type": "code",
      "metadata": {
        "colab_type": "code",
        "id": "7QLxno_70W4j",
        "colab": {},
        "outputId": "7a0b0504-f5ac-4766-d179-e44530575a03"
      },
      "source": [
        "# Count maximum number of words per file.\n",
        "wordDist = [len(w.split()) for w in C]\n",
        "print('Avg. no of words: ' + str(np.round(np.mean(wordDist), 2)))\n",
        "print('Std. deviation: ' + str(np.round(np.std(wordDist), 2)))\n",
        "print('Max words: ' + str(np.max(wordDist)))"
      ],
      "execution_count": 0,
      "outputs": [
        {
          "output_type": "stream",
          "text": [
            "Avg. no of words: 10.18\n",
            "Std. deviation: 57.89\n",
            "Max words: 6723\n"
          ],
          "name": "stdout"
        }
      ]
    },
    {
      "cell_type": "code",
      "metadata": {
        "colab_type": "code",
        "id": "VHh2wS1K0W4l",
        "colab": {},
        "outputId": "b5730a7d-a852-4ec1-d8ce-33135f2d3d61"
      },
      "source": [
        "# Creates the indexes. Word index is a dictionary with words in it.\n",
        "word_index = tokenizer.word_index\n",
        "print('Found %s unique tokens.' % len(word_index))"
      ],
      "execution_count": 0,
      "outputs": [
        {
          "output_type": "stream",
          "text": [
            "Found 55896 unique tokens.\n"
          ],
          "name": "stdout"
        }
      ]
    },
    {
      "cell_type": "code",
      "metadata": {
        "colab_type": "code",
        "id": "h-7ZX-qE0W4o",
        "colab": {}
      },
      "source": [
        "# Creates the training dataset, adding padding when necessary.\n",
        "comment_data = pad_sequences(sequences, maxlen=90, \n",
        "                     padding = 'post') # add padding at the end. No difference in practice."
      ],
      "execution_count": 0,
      "outputs": []
    },
    {
      "cell_type": "code",
      "metadata": {
        "colab_type": "code",
        "id": "p9zsamzW0W4q",
        "colab": {},
        "outputId": "58a4d222-f4d5-4718-e984-24a2ce1bfe01"
      },
      "source": [
        "print('Shape of data tensor:', comment_data.shape)"
      ],
      "execution_count": 0,
      "outputs": [
        {
          "output_type": "stream",
          "text": [
            "Shape of data tensor: (328280, 90)\n"
          ],
          "name": "stdout"
        }
      ]
    },
    {
      "cell_type": "code",
      "metadata": {
        "colab_type": "code",
        "id": "mAmGaFbi0W4u",
        "colab": {},
        "outputId": "46b84ed2-9264-470a-950f-bf0fda4d4749"
      },
      "source": [
        "# Create first matrix full with 0's\n",
        "comment_embedding_matrix = np.zeros((len(word_index) + 1, 300))\n",
        "\n",
        "# Generate embeddings matrix\n",
        "for word, i in word_index.items():\n",
        "    embedding_vector = EmbeddingsDict.get(word)\n",
        "    if embedding_vector is not None:\n",
        "        # words not found in embedding index will be all-zeros.\n",
        "        comment_embedding_matrix[i] = embedding_vector\n",
        "\n",
        "# Print what came out\n",
        "comment_embedding_matrix"
      ],
      "execution_count": 0,
      "outputs": [
        {
          "output_type": "execute_result",
          "data": {
            "text/plain": [
              "array([[ 0.0000e+00,  0.0000e+00,  0.0000e+00, ...,  0.0000e+00,\n",
              "         0.0000e+00,  0.0000e+00],\n",
              "       [-6.1633e-02, -2.8373e-02, -2.7323e-02, ...,  8.9791e-02,\n",
              "         3.1278e-02, -1.8085e-02],\n",
              "       [-4.0902e-02,  5.8467e-02, -1.0321e-02, ...,  1.8736e-01,\n",
              "         3.5375e-04, -3.3145e-03],\n",
              "       ...,\n",
              "       [ 1.8354e-05, -3.3405e-03, -2.7692e-02, ...,  3.7785e-02,\n",
              "         6.9856e-02, -4.7577e-02],\n",
              "       [ 1.7480e-03,  6.0647e-02, -4.2445e-02, ...,  4.4110e-03,\n",
              "         6.2087e-02, -6.7328e-02],\n",
              "       [-1.6274e-02,  5.0016e-02,  1.3052e-02, ..., -4.1031e-02,\n",
              "        -7.7940e-02,  4.9011e-02]])"
            ]
          },
          "metadata": {
            "tags": []
          },
          "execution_count": 38
        }
      ]
    },
    {
      "cell_type": "markdown",
      "metadata": {
        "colab_type": "text",
        "id": "3nNYLGk8RJEV"
      },
      "source": [
        "# MODELING"
      ]
    },
    {
      "cell_type": "code",
      "metadata": {
        "id": "q4-xYVwV0W4y",
        "colab_type": "code",
        "colab": {}
      },
      "source": [
        "input_A=Input(shape=(90,))\n",
        "input_Q=Input(shape=(90,))\n",
        "input_C=Input(shape=(90,))"
      ],
      "execution_count": 0,
      "outputs": []
    },
    {
      "cell_type": "code",
      "metadata": {
        "id": "VfqyeyyD0W41",
        "colab_type": "code",
        "colab": {}
      },
      "source": [
        "embedding_A=Embedding(len(answer_embedding_matrix), 300, weights=[answer_embedding_matrix],\n",
        "                      input_length=90, trainable=False)(input_A)\n",
        "\n",
        "embedding_Q=Embedding(len(question_embedding_matrix), 300, weights=[question_embedding_matrix],\n",
        "                      input_length=90, trainable=False)(input_Q)\n",
        "\n",
        "embedding_C=Embedding(len(comment_embedding_matrix), 300, weights=[comment_embedding_matrix],\n",
        "                      input_length=90, trainable=False)(input_C)\n",
        "\n",
        "input_combined=Concatenate()([embedding_A,embedding_Q,embedding_C])"
      ],
      "execution_count": 0,
      "outputs": []
    },
    {
      "cell_type": "code",
      "metadata": {
        "id": "6LDY7lbQ0W43",
        "colab_type": "code",
        "colab": {}
      },
      "source": [
        "first_output=LSTM(256)(input_combined)"
      ],
      "execution_count": 0,
      "outputs": []
    },
    {
      "cell_type": "code",
      "metadata": {
        "id": "2D-nW-O_0W46",
        "colab_type": "code",
        "colab": {}
      },
      "source": [
        "input_n=Input(shape=(3,))\n",
        "input_all=Concatenate()([first_output,input_n])"
      ],
      "execution_count": 0,
      "outputs": []
    },
    {
      "cell_type": "code",
      "metadata": {
        "id": "Zob_b9Q10W49",
        "colab_type": "code",
        "colab": {}
      },
      "source": [
        "final_output=Dense(64, activation='relu')(input_all)\n",
        "final_output=Dense(64, activation='relu')(final_output)\n",
        "final_output=Dense(1, activation='sigmoid')(final_output)"
      ],
      "execution_count": 0,
      "outputs": []
    },
    {
      "cell_type": "code",
      "metadata": {
        "id": "9AY51qXC0W5C",
        "colab_type": "code",
        "colab": {}
      },
      "source": [
        "model=Model(inputs=[input_A, input_Q, input_C, input_n], outputs=final_output)"
      ],
      "execution_count": 0,
      "outputs": []
    },
    {
      "cell_type": "code",
      "metadata": {
        "id": "QI93aYfj0W5I",
        "colab_type": "code",
        "colab": {}
      },
      "source": [
        "model.compile(loss='binary_crossentropy',\n",
        "              optimizer='adam',\n",
        "              metrics=['acc'])"
      ],
      "execution_count": 0,
      "outputs": []
    },
    {
      "cell_type": "code",
      "metadata": {
        "id": "cUouQtVr0W5O",
        "colab_type": "code",
        "colab": {},
        "outputId": "1ef4d14b-e911-41e3-e7f4-2bfc5678a241"
      },
      "source": [
        "model.summary()"
      ],
      "execution_count": 0,
      "outputs": [
        {
          "output_type": "stream",
          "text": [
            "Model: \"model_2\"\n",
            "__________________________________________________________________________________________________\n",
            "Layer (type)                    Output Shape         Param #     Connected to                     \n",
            "==================================================================================================\n",
            "input_5 (InputLayer)            [(None, 90)]         0                                            \n",
            "__________________________________________________________________________________________________\n",
            "input_6 (InputLayer)            [(None, 90)]         0                                            \n",
            "__________________________________________________________________________________________________\n",
            "input_7 (InputLayer)            [(None, 90)]         0                                            \n",
            "__________________________________________________________________________________________________\n",
            "embedding_3 (Embedding)         (None, 90, 300)      36148200    input_5[0][0]                    \n",
            "__________________________________________________________________________________________________\n",
            "embedding_4 (Embedding)         (None, 90, 300)      31640700    input_6[0][0]                    \n",
            "__________________________________________________________________________________________________\n",
            "embedding_5 (Embedding)         (None, 90, 300)      16769100    input_7[0][0]                    \n",
            "__________________________________________________________________________________________________\n",
            "concatenate_2 (Concatenate)     (None, 90, 900)      0           embedding_3[0][0]                \n",
            "                                                                 embedding_4[0][0]                \n",
            "                                                                 embedding_5[0][0]                \n",
            "__________________________________________________________________________________________________\n",
            "lstm_1 (LSTM)                   (None, 256)          1184768     concatenate_2[0][0]              \n",
            "__________________________________________________________________________________________________\n",
            "input_8 (InputLayer)            [(None, 3)]          0                                            \n",
            "__________________________________________________________________________________________________\n",
            "concatenate_3 (Concatenate)     (None, 259)          0           lstm_1[0][0]                     \n",
            "                                                                 input_8[0][0]                    \n",
            "__________________________________________________________________________________________________\n",
            "dense_2 (Dense)                 (None, 64)           16640       concatenate_3[0][0]              \n",
            "__________________________________________________________________________________________________\n",
            "dense_3 (Dense)                 (None, 64)           4160        dense_2[0][0]                    \n",
            "__________________________________________________________________________________________________\n",
            "dense_4 (Dense)                 (None, 1)            65          dense_3[0][0]                    \n",
            "==================================================================================================\n",
            "Total params: 85,763,633\n",
            "Trainable params: 1,205,633\n",
            "Non-trainable params: 84,558,000\n",
            "__________________________________________________________________________________________________\n"
          ],
          "name": "stdout"
        }
      ]
    },
    {
      "cell_type": "code",
      "metadata": {
        "id": "EhhmTRVy0W5X",
        "colab_type": "code",
        "colab": {}
      },
      "source": [
        "# Train test split\n",
        "labels = labels.astype(\"int\")\n",
        "answer_train, answer_test, question_train, question_test, comment_train, comment_test, num_train, num_test, label_train, label_test =train_test_split(answer_data, \n",
        "                                                                       question_data,\n",
        "                                                                       comment_data, O, labels,\n",
        "                                                                       stratify=labels)"
      ],
      "execution_count": 0,
      "outputs": []
    },
    {
      "cell_type": "code",
      "metadata": {
        "id": "M5n97dLW0W5b",
        "colab_type": "code",
        "colab": {},
        "outputId": "e21c9620-9670-4f1d-b731-266995f47cca"
      },
      "source": [
        "# Fit the model\n",
        "history = model.fit([answer_train,question_train,comment_train,num_train], label_train, validation_split=0.33, epochs=1, batch_size=20)\n",
        "loss = history.history['loss']\n",
        "val_loss = history.history['val_loss']\n",
        "epochs = range(1, len(loss) + 1)"
      ],
      "execution_count": 0,
      "outputs": [
        {
          "output_type": "stream",
          "text": [
            "Train on 164960 samples, validate on 81250 samples\n",
            "164960/164960 [==============================] - 3790s 23ms/sample - loss: 0.2337 - acc: 0.9294 - val_loss: 0.2151 - val_acc: 0.9296\n"
          ],
          "name": "stdout"
        }
      ]
    },
    {
      "cell_type": "code",
      "metadata": {
        "collapsed": true,
        "id": "UaMV5OlP0W5d",
        "colab_type": "code",
        "colab": {},
        "outputId": "bea7fbc6-6c7f-449e-f8c8-73ca73810c26"
      },
      "source": [
        "from sklearn.metrics import roc_curve, auc\n",
        "# Calculate outputs in test set\n",
        "prob_test = model.predict([answer_test,question_test,comment_test,num_test], verbose = 1)\n",
        "prob_train = model.predict([answer_train,question_train,comment_train,num_train], verbose = 1)"
      ],
      "execution_count": 0,
      "outputs": [
        {
          "output_type": "stream",
          "text": [
            "82070/82070 [==============================] - 481s 6ms/sample\n",
            "246210/246210 [==============================] - 1258s 5ms/sample\n"
          ],
          "name": "stdout"
        },
        {
          "output_type": "error",
          "ename": "ValueError",
          "evalue": "Found input variables with inconsistent numbers of samples: [246210, 82070]",
          "traceback": [
            "\u001b[0;31m---------------------------------------------------------------------------\u001b[0m",
            "\u001b[0;31mValueError\u001b[0m                                Traceback (most recent call last)",
            "\u001b[0;32m<ipython-input-65-d9d80a7cc5ad>\u001b[0m in \u001b[0;36m<module>\u001b[0;34m\u001b[0m\n\u001b[1;32m      5\u001b[0m \u001b[0;34m\u001b[0m\u001b[0m\n\u001b[1;32m      6\u001b[0m \u001b[0;31m# Compute ROC curve and ROC area\u001b[0m\u001b[0;34m\u001b[0m\u001b[0;34m\u001b[0m\u001b[0;34m\u001b[0m\u001b[0m\n\u001b[0;32m----> 7\u001b[0;31m \u001b[0mfpr\u001b[0m\u001b[0;34m,\u001b[0m \u001b[0mtpr\u001b[0m\u001b[0;34m,\u001b[0m \u001b[0m_\u001b[0m \u001b[0;34m=\u001b[0m \u001b[0mroc_curve\u001b[0m\u001b[0;34m(\u001b[0m\u001b[0mlabel_train\u001b[0m\u001b[0;34m,\u001b[0m \u001b[0mprob_test\u001b[0m\u001b[0;34m)\u001b[0m\u001b[0;34m\u001b[0m\u001b[0;34m\u001b[0m\u001b[0m\n\u001b[0m\u001b[1;32m      8\u001b[0m \u001b[0mroc_auc\u001b[0m \u001b[0;34m=\u001b[0m \u001b[0mauc\u001b[0m\u001b[0;34m(\u001b[0m\u001b[0mfpr\u001b[0m\u001b[0;34m,\u001b[0m \u001b[0mtpr\u001b[0m\u001b[0;34m)\u001b[0m\u001b[0;34m\u001b[0m\u001b[0;34m\u001b[0m\u001b[0m\n\u001b[1;32m      9\u001b[0m \u001b[0mprint\u001b[0m\u001b[0;34m(\u001b[0m\u001b[0;34m'\\nAUC train: '\u001b[0m\u001b[0;34m,\u001b[0m \u001b[0mroc_auc\u001b[0m\u001b[0;34m)\u001b[0m\u001b[0;34m\u001b[0m\u001b[0;34m\u001b[0m\u001b[0m\n",
            "\u001b[0;32m/opt/anaconda3/lib/python3.7/site-packages/sklearn/metrics/_ranking.py\u001b[0m in \u001b[0;36mroc_curve\u001b[0;34m(y_true, y_score, pos_label, sample_weight, drop_intermediate)\u001b[0m\n\u001b[1;32m    769\u001b[0m     \"\"\"\n\u001b[1;32m    770\u001b[0m     fps, tps, thresholds = _binary_clf_curve(\n\u001b[0;32m--> 771\u001b[0;31m         y_true, y_score, pos_label=pos_label, sample_weight=sample_weight)\n\u001b[0m\u001b[1;32m    772\u001b[0m \u001b[0;34m\u001b[0m\u001b[0m\n\u001b[1;32m    773\u001b[0m     \u001b[0;31m# Attempt to drop thresholds corresponding to points in between and\u001b[0m\u001b[0;34m\u001b[0m\u001b[0;34m\u001b[0m\u001b[0;34m\u001b[0m\u001b[0m\n",
            "\u001b[0;32m/opt/anaconda3/lib/python3.7/site-packages/sklearn/metrics/_ranking.py\u001b[0m in \u001b[0;36m_binary_clf_curve\u001b[0;34m(y_true, y_score, pos_label, sample_weight)\u001b[0m\n\u001b[1;32m    536\u001b[0m         \u001b[0;32mraise\u001b[0m \u001b[0mValueError\u001b[0m\u001b[0;34m(\u001b[0m\u001b[0;34m\"{0} format is not supported\"\u001b[0m\u001b[0;34m.\u001b[0m\u001b[0mformat\u001b[0m\u001b[0;34m(\u001b[0m\u001b[0my_type\u001b[0m\u001b[0;34m)\u001b[0m\u001b[0;34m)\u001b[0m\u001b[0;34m\u001b[0m\u001b[0;34m\u001b[0m\u001b[0m\n\u001b[1;32m    537\u001b[0m \u001b[0;34m\u001b[0m\u001b[0m\n\u001b[0;32m--> 538\u001b[0;31m     \u001b[0mcheck_consistent_length\u001b[0m\u001b[0;34m(\u001b[0m\u001b[0my_true\u001b[0m\u001b[0;34m,\u001b[0m \u001b[0my_score\u001b[0m\u001b[0;34m,\u001b[0m \u001b[0msample_weight\u001b[0m\u001b[0;34m)\u001b[0m\u001b[0;34m\u001b[0m\u001b[0;34m\u001b[0m\u001b[0m\n\u001b[0m\u001b[1;32m    539\u001b[0m     \u001b[0my_true\u001b[0m \u001b[0;34m=\u001b[0m \u001b[0mcolumn_or_1d\u001b[0m\u001b[0;34m(\u001b[0m\u001b[0my_true\u001b[0m\u001b[0;34m)\u001b[0m\u001b[0;34m\u001b[0m\u001b[0;34m\u001b[0m\u001b[0m\n\u001b[1;32m    540\u001b[0m     \u001b[0my_score\u001b[0m \u001b[0;34m=\u001b[0m \u001b[0mcolumn_or_1d\u001b[0m\u001b[0;34m(\u001b[0m\u001b[0my_score\u001b[0m\u001b[0;34m)\u001b[0m\u001b[0;34m\u001b[0m\u001b[0;34m\u001b[0m\u001b[0m\n",
            "\u001b[0;32m/opt/anaconda3/lib/python3.7/site-packages/sklearn/utils/validation.py\u001b[0m in \u001b[0;36mcheck_consistent_length\u001b[0;34m(*arrays)\u001b[0m\n\u001b[1;32m    210\u001b[0m     \u001b[0;32mif\u001b[0m \u001b[0mlen\u001b[0m\u001b[0;34m(\u001b[0m\u001b[0muniques\u001b[0m\u001b[0;34m)\u001b[0m \u001b[0;34m>\u001b[0m \u001b[0;36m1\u001b[0m\u001b[0;34m:\u001b[0m\u001b[0;34m\u001b[0m\u001b[0;34m\u001b[0m\u001b[0m\n\u001b[1;32m    211\u001b[0m         raise ValueError(\"Found input variables with inconsistent numbers of\"\n\u001b[0;32m--> 212\u001b[0;31m                          \" samples: %r\" % [int(l) for l in lengths])\n\u001b[0m\u001b[1;32m    213\u001b[0m \u001b[0;34m\u001b[0m\u001b[0m\n\u001b[1;32m    214\u001b[0m \u001b[0;34m\u001b[0m\u001b[0m\n",
            "\u001b[0;31mValueError\u001b[0m: Found input variables with inconsistent numbers of samples: [246210, 82070]"
          ]
        }
      ]
    },
    {
      "cell_type": "code",
      "metadata": {
        "id": "gjpxTYVp0W5h",
        "colab_type": "code",
        "colab": {},
        "outputId": "bb2e7909-bf31-4bf6-a697-7bc057aaa3d3"
      },
      "source": [
        "# Compute ROC curve and ROC area\n",
        "fpr_train, tpr_train, _ = roc_curve(label_train, prob_train)\n",
        "roc_auc_train = auc(fpr_train, tpr_train)\n",
        "print('\\nAUC train: ', roc_auc_train)\n",
        "\n",
        "# Compute ROC curve and ROC area\n",
        "fpr_test, tpr_test, _ = roc_curve(label_test, prob_test)\n",
        "roc_auc_test = auc(fpr_test, tpr_test)\n",
        "print('AUC test: ', roc_auc_test)"
      ],
      "execution_count": 0,
      "outputs": [
        {
          "output_type": "stream",
          "text": [
            "\n",
            "AUC train:  0.8013240087468211\n",
            "AUC test:  0.8024963072992963\n"
          ],
          "name": "stdout"
        }
      ]
    },
    {
      "cell_type": "code",
      "metadata": {
        "id": "BdmeT91e0W5l",
        "colab_type": "code",
        "colab": {},
        "outputId": "8e964f17-a7a3-42ea-f850-0f5e912ae169"
      },
      "source": [
        "plt.figure()\n",
        "lw = 2\n",
        "plt.figure(figsize=(10,10))\n",
        "plt.plot(fpr_train, tpr_train, label='train (area = %0.2f)' % roc_auc_train)\n",
        "plt.plot(fpr_test, tpr_test, label='test (area = %0.2f)' % roc_auc_test)\n",
        "plt.plot([0, 1], [0, 1], color='navy', lw=lw, linestyle='--')\n",
        "plt.xlim([0.0, 1.0])\n",
        "plt.ylim([0.0, 1.05])\n",
        "plt.xlabel('False Positive Rate')\n",
        "plt.ylabel('True Positive Rate')\n",
        "plt.title('ROC Curve')\n",
        "plt.legend(loc=\"lower right\")\n",
        "plt.show()"
      ],
      "execution_count": 0,
      "outputs": [
        {
          "output_type": "display_data",
          "data": {
            "text/plain": [
              "<Figure size 432x288 with 0 Axes>"
            ]
          },
          "metadata": {
            "tags": []
          }
        },
        {
          "output_type": "display_data",
          "data": {
            "image/png": "[encoded data removed]",
            "text/plain": [
              "<Figure size 720x720 with 1 Axes>"
            ]
          },
          "metadata": {
            "tags": [],
            "needs_background": "light"
          }
        }
      ]
    },
    {
      "cell_type": "code",
      "metadata": {
        "id": "efWepuWc0W5o",
        "colab_type": "code",
        "colab": {},
        "outputId": "40a4baac-3bfe-4c1e-81be-2b5dd20ecb14"
      },
      "source": [
        "# We can adjust the threshold (k) to choose between better recall or precision on the best answer prediction\n",
        "adj=prob_test[:,0].tolist()\n",
        "cut=[]\n",
        "k=0.17\n",
        "for i in range(len(adj)):\n",
        "    if adj[i]>k:\n",
        "        cut.append(1)\n",
        "    else:\n",
        "        cut.append(0)\n",
        "\n",
        "print(classification_report(label_test,cut))\n",
        "print(confusion_matrix(cut,label_test))"
      ],
      "execution_count": 0,
      "outputs": [
        {
          "output_type": "stream",
          "text": [
            "              precision    recall  f1-score   support\n",
            "\n",
            "           0       0.94      0.98      0.96     76288\n",
            "           1       0.27      0.12      0.16      5782\n",
            "\n",
            "    accuracy                           0.92     82070\n",
            "   macro avg       0.61      0.55      0.56     82070\n",
            "weighted avg       0.89      0.92      0.90     82070\n",
            "\n",
            "[[74488  5101]\n",
            " [ 1800   681]]\n"
          ],
          "name": "stdout"
        }
      ]
    }
  ]
}